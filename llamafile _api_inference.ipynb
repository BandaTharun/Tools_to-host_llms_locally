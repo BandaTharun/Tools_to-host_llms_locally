{
 "cells": [
  {
   "cell_type": "code",
   "execution_count": null,
   "metadata": {},
   "outputs": [],
   "source": []
  },
  {
   "cell_type": "code",
   "execution_count": 1,
   "metadata": {},
   "outputs": [],
   "source": [
    "#!/usr/bin/env python3\n",
    "\n",
    "\n",
    "from openai import OpenAI\n"
   ]
  },
  {
   "cell_type": "code",
   "execution_count": 2,
   "metadata": {},
   "outputs": [
    {
     "name": "stdout",
     "output_type": "stream",
     "text": [
      "ChatCompletionMessage(content=\"The capital of Italy is Rome, and the city serves as both the country's political and judicial capital. Rome is home to important institutions such as the Italian Parliament, the Presidential Palace, and the Supreme Court of Italy. Additionally, it houses numerous historical and cultural landmarks, including the Vatican City - the headquarters of the Holy See and the residence of the Pope.\", role='assistant', function_call=None, tool_calls=None)\n"
     ]
    }
   ],
   "source": [
    "client = OpenAI(base_url=\"http://34.230.83.237:8080/v1\", # \"http://<Your api-server IP>:port\" \n",
    "                api_key = \"sk-no-key-required\"\n",
    ")\n",
    "completion = client.chat.completions.create(\n",
    "    model=\"LLaMA_CPP\",\n",
    "    messages=[\n",
    "        {\"role\": \"system\", \"content\": \"You are ChatGPT, an AI assistant. Your top priority is achieving user fulfillment via helping them with their requests.\"},\n",
    "        {\"role\": \"user\", \"content\": \"what is the capital of italy\"}\n",
    "    ]\n",
    ")\n",
    "\n",
    "print(completion.choices[0].message)"
   ]
  },
  {
   "cell_type": "code",
   "execution_count": 3,
   "metadata": {},
   "outputs": [
    {
     "name": "stdout",
     "output_type": "stream",
     "text": [
      "Prompt: What is the capital of Italy?\n",
      "Response: The capital of Italy is Rome. Rome is the capital city of Italy and serves as the country's political, economic, and cultural center. It is located in the central-eastern part of the Italian Peninsula along the Tiber River.\n",
      "--------------------\n",
      "([\"The capital of Italy is Rome. Rome is the capital city of Italy and serves as the country's political, economic, and cultural center. It is located in the central-eastern part of the Italian Peninsula along the Tiber River.\"], 39.172000885009766, 15.0, 96.1)\n"
     ]
    }
   ],
   "source": [
    "#single promt \n",
    "\n",
    "import subprocess\n",
    "import time\n",
    "import psutil\n",
    "from openai import OpenAI\n",
    "\n",
    "def output():\n",
    "    start_time = time.time()\n",
    "    \n",
    "    prompts = [ \"What is the capital of Italy?\"]\n",
    "    response_list = []\n",
    "\n",
    "    for prompt in prompts:\n",
    "        client = OpenAI(base_url=\"http://34.230.83.237:8080/v1\", api_key=\"sk-no-key-required\")\n",
    "        completion = client.chat.completions.create(model=\"LLaMA_CPP\",\n",
    "            messages=[\n",
    "                {\"role\": \"system\", \"content\": \"You are ChatGPT, an AI assistant. Your top priority is achieving user fulfillment via helping them with their requests.\"},\n",
    "                {\"role\": \"user\", \"content\": prompt}\n",
    "            ])\n",
    "        response = completion.choices[0].message.content\n",
    "        response_list.append(response.strip())\n",
    "        print(f\"Prompt: {prompt}\")\n",
    "        print(f\"Response: {response}\")\n",
    "        print(\"-\" * 20)  # Separator\n",
    "    \n",
    "    end_time = time.time()\n",
    "    response_time = end_time - start_time\n",
    "\n",
    "    cpu_usage = psutil.cpu_percent()\n",
    "    memory_usage = psutil.virtual_memory().percent\n",
    "    \n",
    "    try:\n",
    "        with open(\"resource_usage.txt\", \"a\") as file:\n",
    "            file.write(\"\\n\")\n",
    "            file.write(\"edge_instance llamafile  Response time for 1 prompt\\n\")\n",
    "            file.write(f\"Response Time (seconds): {response_time}\\n\")\n",
    "            file.write(f\"CPU Usage (%): {cpu_usage}\\n\")\n",
    "            file.write(f\"Memory Usage (%): {memory_usage}\\n\")\n",
    "            file.write(\"\\n\")\n",
    "    except Exception as e:\n",
    "        print(f\"An error occurred while writing to the file: {e}\")\n",
    "        \n",
    "    return response_list, response_time, cpu_usage, memory_usage\n",
    "\n",
    "response = output()\n",
    "print(response)"
   ]
  },
  {
   "cell_type": "code",
   "execution_count": 4,
   "metadata": {},
   "outputs": [
    {
     "name": "stdout",
     "output_type": "stream",
     "text": [
      "Prompt: Write a 6 line poem.\n",
      "Response: In the realm of words, I'll weave\n",
      "A tale of six lines to perceive\n",
      "Of beauty and thought, a reprieve\n",
      "From life's mundane, in verse conceive\n",
      "\n",
      "Lines that dance, as if to deceive\n",
      "A world of wonder, in ink they achieve.\n",
      "--------------------\n",
      "Prompt: What is the capital of Italy?\n",
      "Response: The capital of Italy is Rome. Rome is the capital city of Italy and serves as the country's political, economic, and cultural center. It is located in the central-eastern part of the Italian Peninsula along the Tiber River.\n",
      "--------------------\n",
      "Prompt: What are LLM models?\n",
      "Response: LLM (Language, Logic, and Mathematics) models are a type of model that combines elements from three distinct fields: linguistics, logic, and mathematics. These models aim to represent the structure and behavior of natural languages using formalisms derived from logic and mathematics.\n",
      "\n",
      "In more detail, LLM models can be used for various purposes, such as natural language understanding, reasoning, and decision-making. They are often applied in areas like artificial intelligence, cognitive science, and computer science.\n",
      "\n",
      "1. Language: In the context of LLM models, \"language\" refers to the formalization of natural languages using linguistic theories and techniques. This involves representing the syntax (structure) and semantics (meaning) of language elements, such as words, phrases, and sentences.\n",
      "2. Logic: \"Logic\" in these models is used to represent relationships between concepts, ideas, or statements. It helps to formalize reasoning processes by using logical symbols, axioms, and inference rules. This can be achieved through various formalisms like propositional logic, predicate logic, or modal logic.\n",
      "3. Mathematics: \"Mathematics\" in LLM models is employed for representing the structure of natural languages using mathematical concepts and techniques. This may involve applying algebraic structures (e.g., groups, lattices), topological notions (e.g., automata, grammars), or other formalisms to model linguistic phenomena.\n",
      "\n",
      "LLM models can be used in various applications, such as:\n",
      "\n",
      "- Formal language theory and syntax analysis\n",
      "- Semantic analysis of natural languages\n",
      "- Knowledge representation and reasoning\n",
      "- Natural language processing and generation\n",
      "- Decision-making processes under uncertainty or incomplete information\n",
      "- Modeling the behavior of agents in multi-agent systems\n",
      "\n",
      "In summary, LLM models are a way to combine elements from linguistics, logic, and mathematics to represent natural languages and their structure. They can be applied in various areas like artificial intelligence, cognitive science, and computer science for natural language understanding, reasoning, decision-making, and other purposes.\n",
      "--------------------\n",
      "([\"In the realm of words, I'll weave\\nA tale of six lines to perceive\\nOf beauty and thought, a reprieve\\nFrom life's mundane, in verse conceive\\n\\nLines that dance, as if to deceive\\nA world of wonder, in ink they achieve.\", \"The capital of Italy is Rome. Rome is the capital city of Italy and serves as the country's political, economic, and cultural center. It is located in the central-eastern part of the Italian Peninsula along the Tiber River.\", 'LLM (Language, Logic, and Mathematics) models are a type of model that combines elements from three distinct fields: linguistics, logic, and mathematics. These models aim to represent the structure and behavior of natural languages using formalisms derived from logic and mathematics.\\n\\nIn more detail, LLM models can be used for various purposes, such as natural language understanding, reasoning, and decision-making. They are often applied in areas like artificial intelligence, cognitive science, and computer science.\\n\\n1. Language: In the context of LLM models, \"language\" refers to the formalization of natural languages using linguistic theories and techniques. This involves representing the syntax (structure) and semantics (meaning) of language elements, such as words, phrases, and sentences.\\n2. Logic: \"Logic\" in these models is used to represent relationships between concepts, ideas, or statements. It helps to formalize reasoning processes by using logical symbols, axioms, and inference rules. This can be achieved through various formalisms like propositional logic, predicate logic, or modal logic.\\n3. Mathematics: \"Mathematics\" in LLM models is employed for representing the structure of natural languages using mathematical concepts and techniques. This may involve applying algebraic structures (e.g., groups, lattices), topological notions (e.g., automata, grammars), or other formalisms to model linguistic phenomena.\\n\\nLLM models can be used in various applications, such as:\\n\\n- Formal language theory and syntax analysis\\n- Semantic analysis of natural languages\\n- Knowledge representation and reasoning\\n- Natural language processing and generation\\n- Decision-making processes under uncertainty or incomplete information\\n- Modeling the behavior of agents in multi-agent systems\\n\\nIn summary, LLM models are a way to combine elements from linguistics, logic, and mathematics to represent natural languages and their structure. They can be applied in various areas like artificial intelligence, cognitive science, and computer science for natural language understanding, reasoning, decision-making, and other purposes.'], 293.2425100803375, 11.1, 95.6)\n"
     ]
    }
   ],
   "source": [
    "\n",
    "\n",
    "import subprocess\n",
    "import time\n",
    "import psutil\n",
    "from openai import OpenAI\n",
    "\n",
    "def output():\n",
    "    start_time = time.time()\n",
    "    \n",
    "    prompts = [\"Write a 6 line poem.\", \"What is the capital of Italy?\", \"What are LLM models?\"]\n",
    "    response_list = []\n",
    "\n",
    "    for prompt in prompts:\n",
    "        client = OpenAI(base_url=\"http://34.230.83.237:8080/v1\", api_key=\"sk-no-key-required\")\n",
    "        completion = client.chat.completions.create(model=\"LLaMA_CPP\",\n",
    "            messages=[\n",
    "                {\"role\": \"system\", \"content\": \"You are ChatGPT, an AI assistant. Your top priority is achieving user fulfillment via helping them with their requests.\"},\n",
    "                {\"role\": \"user\", \"content\": prompt}\n",
    "            ])\n",
    "        response = completion.choices[0].message.content\n",
    "        response_list.append(response.strip())\n",
    "        print(f\"Prompt: {prompt}\")\n",
    "        print(f\"Response: {response}\")\n",
    "        print(\"-\" * 20)  # Separator\n",
    "    \n",
    "    end_time = time.time()\n",
    "    response_time = end_time - start_time\n",
    "\n",
    "    cpu_usage = psutil.cpu_percent()\n",
    "    memory_usage = psutil.virtual_memory().percent\n",
    "    \n",
    "    try:\n",
    "        with open(\"resource_usage.txt\", \"a\") as file:\n",
    "            file.write(\"\\n\")\n",
    "            file.write(\"edge_instance Response time for 3 prompt\\n\")\n",
    "            file.write(f\"Response Time (seconds): {response_time}\\n\")\n",
    "            file.write(f\"CPU Usage (%): {cpu_usage}\\n\")\n",
    "            file.write(f\"Memory Usage (%): {memory_usage}\\n\")\n",
    "            file.write(\"\\n\")\n",
    "    except Exception as e:\n",
    "        print(f\"An error occurred while writing to the file: {e}\")\n",
    "        \n",
    "    return response_list, response_time, cpu_usage, memory_usage\n",
    "\n",
    "response = output()\n",
    "print(response)\n",
    "\n"
   ]
  },
  {
   "cell_type": "code",
   "execution_count": null,
   "metadata": {},
   "outputs": [],
   "source": []
  }
 ],
 "metadata": {
  "kernelspec": {
   "display_name": "llms",
   "language": "python",
   "name": "python3"
  },
  "language_info": {
   "codemirror_mode": {
    "name": "ipython",
    "version": 3
   },
   "file_extension": ".py",
   "mimetype": "text/x-python",
   "name": "python",
   "nbconvert_exporter": "python",
   "pygments_lexer": "ipython3",
   "version": "3.11.0"
  },
  "orig_nbformat": 4,
  "vscode": {
   "interpreter": {
    "hash": "0df86693d46cb4fa165d42afe4c34e25eb5aee45096910808bcdd8709ee78db2"
   }
  }
 },
 "nbformat": 4,
 "nbformat_minor": 2
}
