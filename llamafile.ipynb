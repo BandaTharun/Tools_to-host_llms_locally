{
 "cells": [
  {
   "cell_type": "code",
   "execution_count": 2,
   "metadata": {},
   "outputs": [
    {
     "name": "stdout",
     "output_type": "stream",
     "text": [
      "capybarahermes-2.5-mistral-7b.Q2_K.gguf\n",
      "ctransformars.ipynb\n",
      "langchain.ipynb\n",
      "llama-cpp.ipynb\n",
      "llamafile.ipynb\n",
      "llamafileapi.ipynb\n",
      "ollama.ipynb\n",
      "resource_usage.txt\n"
     ]
    }
   ],
   "source": [
    "ls"
   ]
  },
  {
   "cell_type": "code",
   "execution_count": 3,
   "metadata": {},
   "outputs": [
    {
     "name": "stdout",
     "output_type": "stream",
     "text": [
      "/Users/Tharun/lammafile\n"
     ]
    },
    {
     "name": "stderr",
     "output_type": "stream",
     "text": [
      "/Users/Tharun/opt/anaconda3/envs/llms/lib/python3.11/site-packages/IPython/core/magics/osm.py:417: UserWarning: using dhist requires you to install the `pickleshare` library.\n",
      "  self.shell.db['dhist'] = compress_dhist(dhist)[-100:]\n"
     ]
    }
   ],
   "source": [
    "cd /Users/Tharun/lammafile"
   ]
  },
  {
   "cell_type": "code",
   "execution_count": 4,
   "metadata": {},
   "outputs": [
    {
     "name": "stdout",
     "output_type": "stream",
     "text": [
      "llama.log      \u001b[31mllamafile.exe\u001b[m\u001b[m*\n"
     ]
    }
   ],
   "source": [
    "ls"
   ]
  },
  {
   "cell_type": "code",
   "execution_count": 5,
   "metadata": {},
   "outputs": [],
   "source": [
    "#adding permession \n",
    "!chmod a+x ./llamafile.exe"
   ]
  },
  {
   "cell_type": "code",
   "execution_count": 6,
   "metadata": {},
   "outputs": [
    {
     "name": "stdout",
     "output_type": "stream",
     "text": [
      "Apple Metal GPU support successfully loaded\n",
      "{\"timestamp\":1710246268,\"level\":\"INFO\",\"function\":\"server_cli\",\"line\":2812,\"message\":\"build info\",\"build\":1500,\"commit\":\"a30b324\"}\n",
      "{\"timestamp\":1710246268,\"level\":\"INFO\",\"function\":\"server_cli\",\"line\":2815,\"message\":\"system info\",\"n_threads\":4,\"n_threads_batch\":-1,\"total_threads\":8,\"system_info\":\"AVX = 0 | AVX_VNNI = 0 | AVX2 = 0 | AVX512 = 0 | AVX512_VBMI = 0 | AVX512_VNNI = 0 | FMA = 0 | NEON = 1 | ARM_FMA = 1 | F16C = 0 | FP16_VA = 0 | WASM_SIMD = 0 | BLAS = 0 | SSE3 = 0 | SSSE3 = 0 | VSX = 0 | \"}\n",
      "llama_model_loader: loaded meta data with 20 key-value pairs and 291 tensors from /Users/Tharun/llms/mistral-7b-v0.1.Q2_K.gguf (version GGUF V2)\n",
      "llama_model_loader: Dumping metadata keys/values. Note: KV overrides do not apply in this output.\n",
      "llama_model_loader: - kv   0:                       general.architecture str              = llama\n",
      "llama_model_loader: - kv   1:                               general.name str              = mistralai_mistral-7b-v0.1\n",
      "llama_model_loader: - kv   2:                       llama.context_length u32              = 32768\n",
      "llama_model_loader: - kv   3:                     llama.embedding_length u32              = 4096\n",
      "llama_model_loader: - kv   4:                          llama.block_count u32              = 32\n",
      "llama_model_loader: - kv   5:                  llama.feed_forward_length u32              = 14336\n",
      "llama_model_loader: - kv   6:                 llama.rope.dimension_count u32              = 128\n",
      "llama_model_loader: - kv   7:                 llama.attention.head_count u32              = 32\n",
      "llama_model_loader: - kv   8:              llama.attention.head_count_kv u32              = 8\n",
      "llama_model_loader: - kv   9:     llama.attention.layer_norm_rms_epsilon f32              = 0.000010\n",
      "llama_model_loader: - kv  10:                       llama.rope.freq_base f32              = 10000.000000\n",
      "llama_model_loader: - kv  11:                          general.file_type u32              = 10\n",
      "llama_model_loader: - kv  12:                       tokenizer.ggml.model str              = llama\n",
      "llama_model_loader: - kv  13:                      tokenizer.ggml.tokens arr[str,32000]   = [\"<unk>\", \"<s>\", \"</s>\", \"<0x00>\", \"<...\n",
      "llama_model_loader: - kv  14:                      tokenizer.ggml.scores arr[f32,32000]   = [0.000000, 0.000000, 0.000000, 0.0000...\n",
      "llama_model_loader: - kv  15:                  tokenizer.ggml.token_type arr[i32,32000]   = [2, 3, 3, 6, 6, 6, 6, 6, 6, 6, 6, 6, ...\n",
      "llama_model_loader: - kv  16:                tokenizer.ggml.bos_token_id u32              = 1\n",
      "llama_model_loader: - kv  17:                tokenizer.ggml.eos_token_id u32              = 2\n",
      "llama_model_loader: - kv  18:            tokenizer.ggml.unknown_token_id u32              = 0\n",
      "llama_model_loader: - kv  19:               general.quantization_version u32              = 2\n",
      "llama_model_loader: - type  f32:   65 tensors\n",
      "llama_model_loader: - type q2_K:   65 tensors\n",
      "llama_model_loader: - type q3_K:  160 tensors\n",
      "llama_model_loader: - type q6_K:    1 tensors\n",
      "llm_load_vocab: special tokens definition check successful ( 259/32000 ).\n",
      "llm_load_print_meta: format           = GGUF V2\n",
      "llm_load_print_meta: arch             = llama\n",
      "llm_load_print_meta: vocab type       = SPM\n",
      "llm_load_print_meta: n_vocab          = 32000\n",
      "llm_load_print_meta: n_merges         = 0\n",
      "llm_load_print_meta: n_ctx_train      = 32768\n",
      "llm_load_print_meta: n_embd           = 4096\n",
      "llm_load_print_meta: n_head           = 32\n",
      "llm_load_print_meta: n_head_kv        = 8\n",
      "llm_load_print_meta: n_layer          = 32\n",
      "llm_load_print_meta: n_rot            = 128\n",
      "llm_load_print_meta: n_embd_head_k    = 128\n",
      "llm_load_print_meta: n_embd_head_v    = 128\n",
      "llm_load_print_meta: n_gqa            = 4\n",
      "llm_load_print_meta: n_embd_k_gqa     = 1024\n",
      "llm_load_print_meta: n_embd_v_gqa     = 1024\n",
      "llm_load_print_meta: f_norm_eps       = 0.0e+00\n",
      "llm_load_print_meta: f_norm_rms_eps   = 1.0e-05\n",
      "llm_load_print_meta: f_clamp_kqv      = 0.0e+00\n",
      "llm_load_print_meta: f_max_alibi_bias = 0.0e+00\n",
      "llm_load_print_meta: n_ff             = 14336\n",
      "llm_load_print_meta: n_expert         = 0\n",
      "llm_load_print_meta: n_expert_used    = 0\n",
      "llm_load_print_meta: rope scaling     = linear\n",
      "llm_load_print_meta: freq_base_train  = 10000.0\n",
      "llm_load_print_meta: freq_scale_train = 1\n",
      "llm_load_print_meta: n_yarn_orig_ctx  = 32768\n",
      "llm_load_print_meta: rope_finetuned   = unknown\n",
      "llm_load_print_meta: model type       = 7B\n",
      "llm_load_print_meta: model ftype      = Q2_K\n",
      "llm_load_print_meta: model params     = 7.24 B\n",
      "llm_load_print_meta: model size       = 2.87 GiB (3.41 BPW) \n",
      "llm_load_print_meta: general.name     = mistralai_mistral-7b-v0.1\n",
      "llm_load_print_meta: BOS token        = 1 '<s>'\n",
      "llm_load_print_meta: EOS token        = 2 '</s>'\n",
      "llm_load_print_meta: UNK token        = 0 '<unk>'\n",
      "llm_load_print_meta: LF token         = 13 '<0x0A>'\n",
      "llm_load_tensors: ggml ctx size       =    0.11 MiB\n",
      "ggml_backend_metal_buffer_from_ptr: allocated buffer, size =  2940.28 MiB, ( 2940.34 /  5461.34)\n",
      "llm_load_tensors: system memory used  = 2939.68 MiB\n",
      ".................................................................................................\n",
      "llama_new_context_with_model: n_ctx      = 512\n",
      "llama_new_context_with_model: freq_base  = 10000.0\n",
      "llama_new_context_with_model: freq_scale = 1\n",
      "ggml_metal_init: allocating\n",
      "ggml_metal_init: found device: Apple M2\n",
      "ggml_metal_init: picking default device: Apple M2\n",
      "ggml_metal_init: ggml.metallib not found, loading from source\n",
      "ggml_metal_init: GGML_METAL_PATH_RESOURCES = nil\n",
      "ggml_metal_init: loading '/var/folders/tx/thqjy9l967l8bpqhyd8xsvjr0000gn/T/.llamafile/ggml-metal.metal'\n",
      "ggml_metal_init: GPU name:   Apple M2\n",
      "ggml_metal_init: GPU family: MTLGPUFamilyApple8 (1008)\n",
      "ggml_metal_init: hasUnifiedMemory              = true\n",
      "ggml_metal_init: recommendedMaxWorkingSetSize  =  5726.63 MB\n",
      "ggml_metal_init: maxTransferRate               = built-in GPU\n",
      "ggml_backend_metal_buffer_type_alloc_buffer: allocated buffer, size =    62.00 MiB, ( 3002.97 /  5461.34)\n",
      "llama_kv_cache_init: VRAM kv self = 2.00 MB\n",
      "llama_new_context_with_model: KV self size  =   64.00 MiB, K (f16):   32.00 MiB, V (f16):   32.00 MiB\n",
      "ggml_backend_metal_buffer_type_alloc_buffer: allocated buffer, size =     0.02 MiB, ( 3002.98 /  5461.34)\n",
      "llama_build_graph: non-view tensors processed: 676/676\n",
      "llama_new_context_with_model: compute buffer total size = 76.19 MiB\n",
      "ggml_backend_metal_buffer_type_alloc_buffer: allocated buffer, size =    73.02 MiB, ( 3075.98 /  5461.34)\n",
      "llama_new_context_with_model: VRAM scratch buffer: 73.00 MiB\n",
      "llama_new_context_with_model: total VRAM used: 73.00 MiB (model: 0.00 MiB, context: 73.00 MiB)\n",
      "Available slots:\n",
      " -> Slot 0 - max context: 512\n",
      "\n",
      "llama server listening at http://127.0.0.1:8080\n",
      "\n",
      "opening browser tab... (pass --nobrowser to disable)\n",
      "{\"timestamp\":1710246275,\"level\":\"INFO\",\"function\":\"server_cli\",\"line\":3289,\"message\":\"HTTP server listening\",\"port\":\"8080\",\"hostname\":\"127.0.0.1\"}\n",
      "all slots are idle and system prompt is empty, clear the KV cache\n",
      "{\"timestamp\":1710246277,\"level\":\"INFO\",\"function\":\"log_server_request\",\"line\":2741,\"message\":\"request\",\"remote_addr\":\"127.0.0.1\",\"remote_port\":56762,\"status\":200,\"method\":\"GET\",\"path\":\"/\",\"params\":{}}\n",
      "{\"timestamp\":1710246278,\"level\":\"INFO\",\"function\":\"log_server_request\",\"line\":2741,\"message\":\"request\",\"remote_addr\":\"127.0.0.1\",\"remote_port\":56764,\"status\":200,\"method\":\"GET\",\"path\":\"/json-schema-to-grammar.mjs\",\"params\":{}}\n",
      "{\"timestamp\":1710246278,\"level\":\"INFO\",\"function\":\"log_server_request\",\"line\":2741,\"message\":\"request\",\"remote_addr\":\"127.0.0.1\",\"remote_port\":56762,\"status\":200,\"method\":\"GET\",\"path\":\"/index.js\",\"params\":{}}\n",
      "{\"timestamp\":1710246278,\"level\":\"INFO\",\"function\":\"log_server_request\",\"line\":2741,\"message\":\"request\",\"remote_addr\":\"127.0.0.1\",\"remote_port\":56763,\"status\":200,\"method\":\"GET\",\"path\":\"/completion.js\",\"params\":{}}\n",
      "slot 0 is processing [task id: 0]\n",
      "slot 0 : kv cache rm - [0, end)\n",
      "\n",
      "print_timings: prompt eval time =    4391.73 ms /    76 tokens (   57.79 ms per token,    17.31 tokens per second)\n",
      "print_timings:        eval time =     695.26 ms /    14 runs   (   49.66 ms per token,    20.14 tokens per second)\n",
      "print_timings:       total time =    5086.99 ms\n",
      "slot 0 released (91 tokens in cache)\n",
      "{\"timestamp\":1710246311,\"level\":\"INFO\",\"function\":\"log_server_request\",\"line\":2741,\"message\":\"request\",\"remote_addr\":\"127.0.0.1\",\"remote_port\":56810,\"status\":200,\"method\":\"POST\",\"path\":\"/v1/chat/completions\",\"params\":{}}\n",
      "slot 0 is processing [task id: 1]\n",
      "slot 0 : kv cache rm - [0, end)\n",
      "\n",
      "print_timings: prompt eval time =    5059.45 ms /    75 tokens (   67.46 ms per token,    14.82 tokens per second)\n",
      "print_timings:        eval time =    9740.73 ms /    45 runs   (  216.46 ms per token,     4.62 tokens per second)\n",
      "print_timings:       total time =   14800.18 ms\n",
      "slot 0 released (121 tokens in cache)\n",
      "{\"timestamp\":1710246413,\"level\":\"INFO\",\"function\":\"log_server_request\",\"line\":2741,\"message\":\"request\",\"remote_addr\":\"127.0.0.1\",\"remote_port\":56841,\"status\":200,\"method\":\"POST\",\"path\":\"/v1/chat/completions\",\"params\":{}}\n",
      "slot 0 is processing [task id: 2]\n",
      "slot 0 : kv cache rm - [0, end)\n",
      "\n",
      "print_timings: prompt eval time =    1798.14 ms /    76 tokens (   23.66 ms per token,    42.27 tokens per second)\n",
      "print_timings:        eval time =    2309.04 ms /    14 runs   (  164.93 ms per token,     6.06 tokens per second)\n",
      "print_timings:       total time =    4107.18 ms\n",
      "slot 0 released (91 tokens in cache)\n",
      "{\"timestamp\":1710246417,\"level\":\"INFO\",\"function\":\"log_server_request\",\"line\":2741,\"message\":\"request\",\"remote_addr\":\"127.0.0.1\",\"remote_port\":56846,\"status\":200,\"method\":\"POST\",\"path\":\"/v1/chat/completions\",\"params\":{}}\n",
      "slot 0 is processing [task id: 3]\n",
      "slot 0 : kv cache rm - [0, end)\n",
      "\n",
      "print_timings: prompt eval time =    2245.84 ms /    75 tokens (   29.94 ms per token,    33.40 tokens per second)\n",
      "print_timings:        eval time =   14923.53 ms /    70 runs   (  213.19 ms per token,     4.69 tokens per second)\n",
      "print_timings:       total time =   17169.37 ms\n",
      "slot 0 released (146 tokens in cache)\n",
      "{\"timestamp\":1710246434,\"level\":\"INFO\",\"function\":\"log_server_request\",\"line\":2741,\"message\":\"request\",\"remote_addr\":\"127.0.0.1\",\"remote_port\":56850,\"status\":200,\"method\":\"POST\",\"path\":\"/v1/chat/completions\",\"params\":{}}\n",
      "slot 0 is processing [task id: 4]\n",
      "slot 0 : kv cache rm - [0, end)\n",
      "\n",
      "print_timings: prompt eval time =    5562.04 ms /    75 tokens (   74.16 ms per token,    13.48 tokens per second)\n",
      "print_timings:        eval time =   12178.08 ms /    45 runs   (  270.62 ms per token,     3.70 tokens per second)\n",
      "print_timings:       total time =   17740.12 ms\n",
      "slot 0 released (121 tokens in cache)\n",
      "{\"timestamp\":1710246604,\"level\":\"INFO\",\"function\":\"log_server_request\",\"line\":2741,\"message\":\"request\",\"remote_addr\":\"127.0.0.1\",\"remote_port\":56897,\"status\":200,\"method\":\"POST\",\"path\":\"/v1/chat/completions\",\"params\":{}}\n",
      "slot 0 is processing [task id: 5]\n",
      "slot 0 : kv cache rm - [0, end)\n",
      "\n",
      "print_timings: prompt eval time =    2232.69 ms /    76 tokens (   29.38 ms per token,    34.04 tokens per second)\n",
      "print_timings:        eval time =    2721.59 ms /    14 runs   (  194.40 ms per token,     5.14 tokens per second)\n",
      "print_timings:       total time =    4954.28 ms\n",
      "slot 0 released (91 tokens in cache)\n",
      "{\"timestamp\":1710246609,\"level\":\"INFO\",\"function\":\"log_server_request\",\"line\":2741,\"message\":\"request\",\"remote_addr\":\"127.0.0.1\",\"remote_port\":56902,\"status\":200,\"method\":\"POST\",\"path\":\"/v1/chat/completions\",\"params\":{}}\n",
      "slot 0 is processing [task id: 6]\n",
      "slot 0 : kv cache rm - [0, end)\n",
      "\n",
      "print_timings: prompt eval time =    2332.79 ms /    75 tokens (   31.10 ms per token,    32.15 tokens per second)\n",
      "print_timings:        eval time =   17107.32 ms /    70 runs   (  244.39 ms per token,     4.09 tokens per second)\n",
      "print_timings:       total time =   19440.11 ms\n",
      "slot 0 released (146 tokens in cache)\n",
      "{\"timestamp\":1710246629,\"level\":\"INFO\",\"function\":\"log_server_request\",\"line\":2741,\"message\":\"request\",\"remote_addr\":\"127.0.0.1\",\"remote_port\":56906,\"status\":200,\"method\":\"POST\",\"path\":\"/v1/chat/completions\",\"params\":{}}\n",
      "slot 0 is processing [task id: 7]\n",
      "slot 0 : kv cache rm - [0, end)\n",
      "\n",
      "print_timings: prompt eval time =    4582.59 ms /    76 tokens (   60.30 ms per token,    16.58 tokens per second)\n",
      "print_timings:        eval time =    3860.34 ms /    14 runs   (  275.74 ms per token,     3.63 tokens per second)\n",
      "print_timings:       total time =    8442.93 ms\n",
      "slot 0 released (91 tokens in cache)\n",
      "{\"timestamp\":1710246695,\"level\":\"INFO\",\"function\":\"log_server_request\",\"line\":2741,\"message\":\"request\",\"remote_addr\":\"127.0.0.1\",\"remote_port\":56926,\"status\":200,\"method\":\"POST\",\"path\":\"/v1/chat/completions\",\"params\":{}}\n",
      "slot 0 is processing [task id: 8]\n",
      "slot 0 : kv cache rm - [0, end)\n",
      "\n",
      "print_timings: prompt eval time =    7024.10 ms /    76 tokens (   92.42 ms per token,    10.82 tokens per second)\n",
      "print_timings:        eval time =    3628.45 ms /    14 runs   (  259.18 ms per token,     3.86 tokens per second)\n",
      "print_timings:       total time =   10652.55 ms\n",
      "slot 0 released (91 tokens in cache)\n",
      "{\"timestamp\":1710246824,\"level\":\"INFO\",\"function\":\"log_server_request\",\"line\":2741,\"message\":\"request\",\"remote_addr\":\"127.0.0.1\",\"remote_port\":56955,\"status\":200,\"method\":\"POST\",\"path\":\"/v1/chat/completions\",\"params\":{}}\n",
      "slot 0 is processing [task id: 9]\n",
      "slot 0 : kv cache rm - [0, end)\n",
      "\n",
      "print_timings: prompt eval time =    5030.03 ms /    75 tokens (   67.07 ms per token,    14.91 tokens per second)\n",
      "print_timings:        eval time =   12123.42 ms /    45 runs   (  269.41 ms per token,     3.71 tokens per second)\n",
      "print_timings:       total time =   17153.45 ms\n",
      "slot 0 released (121 tokens in cache)\n",
      "{\"timestamp\":1710246868,\"level\":\"INFO\",\"function\":\"log_server_request\",\"line\":2741,\"message\":\"request\",\"remote_addr\":\"127.0.0.1\",\"remote_port\":56967,\"status\":200,\"method\":\"POST\",\"path\":\"/v1/chat/completions\",\"params\":{}}\n",
      "slot 0 is processing [task id: 10]\n",
      "slot 0 : kv cache rm - [0, end)\n",
      "\n",
      "print_timings: prompt eval time =    2180.31 ms /    76 tokens (   28.69 ms per token,    34.86 tokens per second)\n",
      "print_timings:        eval time =    3456.08 ms /    14 runs   (  246.86 ms per token,     4.05 tokens per second)\n",
      "print_timings:       total time =    5636.39 ms\n",
      "slot 0 released (91 tokens in cache)\n",
      "{\"timestamp\":1710246874,\"level\":\"INFO\",\"function\":\"log_server_request\",\"line\":2741,\"message\":\"request\",\"remote_addr\":\"127.0.0.1\",\"remote_port\":56974,\"status\":200,\"method\":\"POST\",\"path\":\"/v1/chat/completions\",\"params\":{}}\n",
      "slot 0 is processing [task id: 11]\n",
      "slot 0 : kv cache rm - [0, end)\n",
      "\n",
      "print_timings: prompt eval time =    2058.28 ms /    75 tokens (   27.44 ms per token,    36.44 tokens per second)\n",
      "print_timings:        eval time =   13685.88 ms /    70 runs   (  195.51 ms per token,     5.11 tokens per second)\n",
      "print_timings:       total time =   15744.16 ms\n",
      "slot 0 released (146 tokens in cache)\n",
      "{\"timestamp\":1710246889,\"level\":\"INFO\",\"function\":\"log_server_request\",\"line\":2741,\"message\":\"request\",\"remote_addr\":\"127.0.0.1\",\"remote_port\":56976,\"status\":200,\"method\":\"POST\",\"path\":\"/v1/chat/completions\",\"params\":{}}\n",
      "^C\n"
     ]
    }
   ],
   "source": [
    "!./llamafile.exe -m /Users/Tharun/llms/mistral-7b-v0.1.Q2_K.gguf "
   ]
  },
  {
   "cell_type": "code",
   "execution_count": null,
   "metadata": {},
   "outputs": [],
   "source": []
  },
  {
   "cell_type": "code",
   "execution_count": null,
   "metadata": {},
   "outputs": [],
   "source": []
  }
 ],
 "metadata": {
  "kernelspec": {
   "display_name": "llms",
   "language": "python",
   "name": "python3"
  },
  "language_info": {
   "codemirror_mode": {
    "name": "ipython",
    "version": 3
   },
   "file_extension": ".py",
   "mimetype": "text/x-python",
   "name": "python",
   "nbconvert_exporter": "python",
   "pygments_lexer": "ipython3",
   "version": "3.11.0"
  },
  "orig_nbformat": 4,
  "vscode": {
   "interpreter": {
    "hash": "0df86693d46cb4fa165d42afe4c34e25eb5aee45096910808bcdd8709ee78db2"
   }
  }
 },
 "nbformat": 4,
 "nbformat_minor": 2
}
