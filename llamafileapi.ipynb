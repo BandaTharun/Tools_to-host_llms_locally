{
 "cells": [
  {
   "cell_type": "code",
   "execution_count": null,
   "metadata": {},
   "outputs": [],
   "source": []
  },
  {
   "cell_type": "code",
   "execution_count": 1,
   "metadata": {},
   "outputs": [],
   "source": [
    "#!/usr/bin/env python3\n",
    "\n",
    "\n",
    "from openai import OpenAI\n"
   ]
  },
  {
   "cell_type": "code",
   "execution_count": null,
   "metadata": {},
   "outputs": [],
   "source": [
    "client = OpenAI(base_url=\"http://localhost:8080/v1\", # \"http://<Your api-server IP>:port\" \n",
    "                api_key = \"sk-no-key-required\"\n",
    ")\n",
    "completion = client.chat.completions.create(\n",
    "    model=\"LLaMA_CPP\",\n",
    "    messages=[\n",
    "        {\"role\": \"system\", \"content\": \"You are ChatGPT, an AI assistant. Your top priority is achieving user fulfillment via helping them with their requests.\"},\n",
    "        {\"role\": \"user\", \"content\": \"what ai is going to do in future \"}\n",
    "    ]\n",
    ")\n",
    "\n",
    "print(completion.choices[0].message)"
   ]
  },
  {
   "cell_type": "code",
   "execution_count": 6,
   "metadata": {},
   "outputs": [
    {
     "name": "stdout",
     "output_type": "stream",
     "text": [
      "Prompt: What is the capital of Italy?\n",
      "Response: The capital of Italy is Rome.\n",
      "\n",
      "--------------------\n",
      "(['The capital of Italy is Rome.'], 10.706171035766602, 16.3, 98.3)\n"
     ]
    }
   ],
   "source": [
    "import subprocess\n",
    "import time\n",
    "import psutil\n",
    "from openai import OpenAI\n",
    "\n",
    "def output():\n",
    "    start_time = time.time()\n",
    "    \n",
    "    prompts = [ \"What is the capital of Italy?\"]\n",
    "    response_list = []\n",
    "\n",
    "    for prompt in prompts:\n",
    "        client = OpenAI(base_url=\"http://localhost:8080/v1\", api_key=\"sk-no-key-required\")\n",
    "        completion = client.chat.completions.create(model=\"LLaMA_CPP\",\n",
    "            messages=[\n",
    "                {\"role\": \"system\", \"content\": \"You are ChatGPT, an AI assistant. Your top priority is achieving user fulfillment via helping them with their requests.\"},\n",
    "                {\"role\": \"user\", \"content\": prompt}\n",
    "            ])\n",
    "        response = completion.choices[0].message.content\n",
    "        response_list.append(response.strip())\n",
    "        print(f\"Prompt: {prompt}\")\n",
    "        print(f\"Response: {response}\")\n",
    "        print(\"-\" * 20)  # Separator\n",
    "    \n",
    "    end_time = time.time()\n",
    "    response_time = end_time - start_time\n",
    "\n",
    "    cpu_usage = psutil.cpu_percent()\n",
    "    memory_usage = psutil.virtual_memory().percent\n",
    "    \n",
    "    try:\n",
    "        with open(\"resource_usage.txt\", \"a\") as file:\n",
    "            file.write(\"\\n\")\n",
    "            file.write(\"llamafile  Response time for 1 prompt\\n\")\n",
    "            file.write(f\"Response Time (seconds): {response_time}\\n\")\n",
    "            file.write(f\"CPU Usage (%): {cpu_usage}\\n\")\n",
    "            file.write(f\"Memory Usage (%): {memory_usage}\\n\")\n",
    "            file.write(\"\\n\")\n",
    "    except Exception as e:\n",
    "        print(f\"An error occurred while writing to the file: {e}\")\n",
    "        \n",
    "    return response_list, response_time, cpu_usage, memory_usage\n",
    "\n",
    "response = output()\n",
    "print(response)"
   ]
  },
  {
   "cell_type": "code",
   "execution_count": 7,
   "metadata": {},
   "outputs": [
    {
     "name": "stdout",
     "output_type": "stream",
     "text": [
      "Prompt: Write a 6 line poem.\n",
      "Response: I'll give it a shot:\n",
      "\n",
      "Roses are red,\n",
      "Violets are blue,\n",
      "Six lines of poetry,\n",
      "Is all that I can do.\n",
      "\n",
      "\n",
      "--------------------\n",
      "Prompt: What is the capital of Italy?\n",
      "Response: The capital of Italy is Rome.\n",
      "\n",
      "--------------------\n",
      "Prompt: What are LLM models?\n",
      "Response: LLM (Language Model) models are a type of machine learning model that is trained on large amounts of text data, such as books, articles, and web pages. They are designed to understand and generate human-like language, making them useful for tasks like chatbots, summarization, and question answering.\n",
      "\n",
      "--------------------\n",
      "([\"I'll give it a shot:\\n\\nRoses are red,\\nViolets are blue,\\nSix lines of poetry,\\nIs all that I can do.\", 'The capital of Italy is Rome.', 'LLM (Language Model) models are a type of machine learning model that is trained on large amounts of text data, such as books, articles, and web pages. They are designed to understand and generate human-like language, making them useful for tasks like chatbots, summarization, and question answering.'], 38.72029399871826, 24.6, 97.4)\n"
     ]
    }
   ],
   "source": [
    "\n",
    "\n",
    "import subprocess\n",
    "import time\n",
    "import psutil\n",
    "from openai import OpenAI\n",
    "\n",
    "def output():\n",
    "    start_time = time.time()\n",
    "    \n",
    "    prompts = [\"Write a 6 line poem.\", \"What is the capital of Italy?\", \"What are LLM models?\"]\n",
    "    response_list = []\n",
    "\n",
    "    for prompt in prompts:\n",
    "        client = OpenAI(base_url=\"http://localhost:8080/v1\", api_key=\"sk-no-key-required\")\n",
    "        completion = client.chat.completions.create(model=\"LLaMA_CPP\",\n",
    "            messages=[\n",
    "                {\"role\": \"system\", \"content\": \"You are ChatGPT, an AI assistant. Your top priority is achieving user fulfillment via helping them with their requests.\"},\n",
    "                {\"role\": \"user\", \"content\": prompt}\n",
    "            ])\n",
    "        response = completion.choices[0].message.content\n",
    "        response_list.append(response.strip())\n",
    "        print(f\"Prompt: {prompt}\")\n",
    "        print(f\"Response: {response}\")\n",
    "        print(\"-\" * 20)  # Separator\n",
    "    \n",
    "    end_time = time.time()\n",
    "    response_time = end_time - start_time\n",
    "\n",
    "    cpu_usage = psutil.cpu_percent()\n",
    "    memory_usage = psutil.virtual_memory().percent\n",
    "    \n",
    "    try:\n",
    "        with open(\"resource_usage.txt\", \"a\") as file:\n",
    "            file.write(\"\\n\")\n",
    "            file.write(\"llamafile  Response time for 3 prompt\\n\")\n",
    "            file.write(f\"Response Time (seconds): {response_time}\\n\")\n",
    "            file.write(f\"CPU Usage (%): {cpu_usage}\\n\")\n",
    "            file.write(f\"Memory Usage (%): {memory_usage}\\n\")\n",
    "            file.write(\"\\n\")\n",
    "    except Exception as e:\n",
    "        print(f\"An error occurred while writing to the file: {e}\")\n",
    "        \n",
    "    return response_list, response_time, cpu_usage, memory_usage\n",
    "\n",
    "response = output()\n",
    "print(response)\n",
    "\n"
   ]
  },
  {
   "cell_type": "code",
   "execution_count": null,
   "metadata": {},
   "outputs": [],
   "source": []
  }
 ],
 "metadata": {
  "kernelspec": {
   "display_name": "llms",
   "language": "python",
   "name": "python3"
  },
  "language_info": {
   "codemirror_mode": {
    "name": "ipython",
    "version": 3
   },
   "file_extension": ".py",
   "mimetype": "text/x-python",
   "name": "python",
   "nbconvert_exporter": "python",
   "pygments_lexer": "ipython3",
   "version": "3.11.0 (main, Mar  1 2023, 12:49:28) [Clang 14.0.6 ]"
  },
  "orig_nbformat": 4,
  "vscode": {
   "interpreter": {
    "hash": "0df86693d46cb4fa165d42afe4c34e25eb5aee45096910808bcdd8709ee78db2"
   }
  }
 },
 "nbformat": 4,
 "nbformat_minor": 2
}
